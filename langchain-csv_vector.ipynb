{
 "cells": [
  {
   "cell_type": "markdown",
   "metadata": {},
   "source": [
    "# Experiment vector csv"
   ]
  },
  {
   "cell_type": "code",
   "execution_count": 6,
   "metadata": {
    "vscode": {
     "languageId": "shellscript"
    }
   },
   "outputs": [
    {
     "name": "stdout",
     "output_type": "stream",
     "text": [
      "Requirement already satisfied: langchain in /home/kosta/miniconda3/envs/langchain/lib/python3.11/site-packages (0.1.16)\n",
      "Requirement already satisfied: PyYAML>=5.3 in /home/kosta/miniconda3/envs/langchain/lib/python3.11/site-packages (from langchain) (6.0.1)\n",
      "Requirement already satisfied: SQLAlchemy<3,>=1.4 in /home/kosta/miniconda3/envs/langchain/lib/python3.11/site-packages (from langchain) (2.0.28)\n",
      "Requirement already satisfied: aiohttp<4.0.0,>=3.8.3 in /home/kosta/miniconda3/envs/langchain/lib/python3.11/site-packages (from langchain) (3.9.3)\n",
      "Requirement already satisfied: dataclasses-json<0.7,>=0.5.7 in /home/kosta/miniconda3/envs/langchain/lib/python3.11/site-packages (from langchain) (0.6.4)\n",
      "Requirement already satisfied: jsonpatch<2.0,>=1.33 in /home/kosta/miniconda3/envs/langchain/lib/python3.11/site-packages (from langchain) (1.33)\n",
      "Requirement already satisfied: langchain-community<0.1,>=0.0.32 in /home/kosta/miniconda3/envs/langchain/lib/python3.11/site-packages (from langchain) (0.0.33)\n",
      "Requirement already satisfied: langchain-core<0.2.0,>=0.1.42 in /home/kosta/miniconda3/envs/langchain/lib/python3.11/site-packages (from langchain) (0.1.44)\n",
      "Requirement already satisfied: langchain-text-splitters<0.1,>=0.0.1 in /home/kosta/miniconda3/envs/langchain/lib/python3.11/site-packages (from langchain) (0.0.1)\n",
      "Requirement already satisfied: langsmith<0.2.0,>=0.1.17 in /home/kosta/miniconda3/envs/langchain/lib/python3.11/site-packages (from langchain) (0.1.26)\n",
      "Requirement already satisfied: numpy<2,>=1 in /home/kosta/miniconda3/envs/langchain/lib/python3.11/site-packages (from langchain) (1.26.4)\n",
      "Requirement already satisfied: pydantic<3,>=1 in /home/kosta/miniconda3/envs/langchain/lib/python3.11/site-packages (from langchain) (2.6.3)\n",
      "Requirement already satisfied: requests<3,>=2 in /home/kosta/miniconda3/envs/langchain/lib/python3.11/site-packages (from langchain) (2.31.0)\n",
      "Requirement already satisfied: tenacity<9.0.0,>=8.1.0 in /home/kosta/miniconda3/envs/langchain/lib/python3.11/site-packages (from langchain) (8.2.3)\n",
      "Requirement already satisfied: aiosignal>=1.1.2 in /home/kosta/miniconda3/envs/langchain/lib/python3.11/site-packages (from aiohttp<4.0.0,>=3.8.3->langchain) (1.3.1)\n",
      "Requirement already satisfied: attrs>=17.3.0 in /home/kosta/miniconda3/envs/langchain/lib/python3.11/site-packages (from aiohttp<4.0.0,>=3.8.3->langchain) (23.2.0)\n",
      "Requirement already satisfied: frozenlist>=1.1.1 in /home/kosta/miniconda3/envs/langchain/lib/python3.11/site-packages (from aiohttp<4.0.0,>=3.8.3->langchain) (1.4.1)\n",
      "Requirement already satisfied: multidict<7.0,>=4.5 in /home/kosta/miniconda3/envs/langchain/lib/python3.11/site-packages (from aiohttp<4.0.0,>=3.8.3->langchain) (6.0.5)\n",
      "Requirement already satisfied: yarl<2.0,>=1.0 in /home/kosta/miniconda3/envs/langchain/lib/python3.11/site-packages (from aiohttp<4.0.0,>=3.8.3->langchain) (1.9.4)\n",
      "Requirement already satisfied: marshmallow<4.0.0,>=3.18.0 in /home/kosta/miniconda3/envs/langchain/lib/python3.11/site-packages (from dataclasses-json<0.7,>=0.5.7->langchain) (3.21.1)\n",
      "Requirement already satisfied: typing-inspect<1,>=0.4.0 in /home/kosta/miniconda3/envs/langchain/lib/python3.11/site-packages (from dataclasses-json<0.7,>=0.5.7->langchain) (0.9.0)\n",
      "Requirement already satisfied: jsonpointer>=1.9 in /home/kosta/miniconda3/envs/langchain/lib/python3.11/site-packages (from jsonpatch<2.0,>=1.33->langchain) (2.4)\n",
      "Requirement already satisfied: packaging<24.0,>=23.2 in /home/kosta/miniconda3/envs/langchain/lib/python3.11/site-packages (from langchain-core<0.2.0,>=0.1.42->langchain) (23.2)\n",
      "Requirement already satisfied: orjson<4.0.0,>=3.9.14 in /home/kosta/miniconda3/envs/langchain/lib/python3.11/site-packages (from langsmith<0.2.0,>=0.1.17->langchain) (3.9.15)\n",
      "Requirement already satisfied: annotated-types>=0.4.0 in /home/kosta/miniconda3/envs/langchain/lib/python3.11/site-packages (from pydantic<3,>=1->langchain) (0.6.0)\n",
      "Requirement already satisfied: pydantic-core==2.16.3 in /home/kosta/miniconda3/envs/langchain/lib/python3.11/site-packages (from pydantic<3,>=1->langchain) (2.16.3)\n",
      "Requirement already satisfied: typing-extensions>=4.6.1 in /home/kosta/miniconda3/envs/langchain/lib/python3.11/site-packages (from pydantic<3,>=1->langchain) (4.10.0)\n",
      "Requirement already satisfied: charset-normalizer<4,>=2 in /home/kosta/miniconda3/envs/langchain/lib/python3.11/site-packages (from requests<3,>=2->langchain) (3.3.2)\n",
      "Requirement already satisfied: idna<4,>=2.5 in /home/kosta/miniconda3/envs/langchain/lib/python3.11/site-packages (from requests<3,>=2->langchain) (3.6)\n",
      "Requirement already satisfied: urllib3<3,>=1.21.1 in /home/kosta/miniconda3/envs/langchain/lib/python3.11/site-packages (from requests<3,>=2->langchain) (2.2.1)\n",
      "Requirement already satisfied: certifi>=2017.4.17 in /home/kosta/miniconda3/envs/langchain/lib/python3.11/site-packages (from requests<3,>=2->langchain) (2024.2.2)\n",
      "Requirement already satisfied: greenlet!=0.4.17 in /home/kosta/miniconda3/envs/langchain/lib/python3.11/site-packages (from SQLAlchemy<3,>=1.4->langchain) (3.0.1)\n",
      "Requirement already satisfied: mypy-extensions>=0.3.0 in /home/kosta/miniconda3/envs/langchain/lib/python3.11/site-packages (from typing-inspect<1,>=0.4.0->dataclasses-json<0.7,>=0.5.7->langchain) (1.0.0)\n",
      "Collecting faiss-cpu\n",
      "  Downloading faiss_cpu-1.8.0-cp311-cp311-manylinux_2_17_x86_64.manylinux2014_x86_64.whl.metadata (3.6 kB)\n",
      "Requirement already satisfied: numpy in /home/kosta/miniconda3/envs/langchain/lib/python3.11/site-packages (from faiss-cpu) (1.26.4)\n",
      "Downloading faiss_cpu-1.8.0-cp311-cp311-manylinux_2_17_x86_64.manylinux2014_x86_64.whl (27.0 MB)\n",
      "\u001b[2K   \u001b[90m━━━━━━━━━━━━━━━━━━━━━━━━━━━━━━━━━━━━━━━━\u001b[0m \u001b[32m27.0/27.0 MB\u001b[0m \u001b[31m11.0 MB/s\u001b[0m eta \u001b[36m0:00:00\u001b[0m00:01\u001b[0m00:01\u001b[0m\n",
      "\u001b[?25hInstalling collected packages: faiss-cpu\n",
      "Successfully installed faiss-cpu-1.8.0\n",
      "Requirement already satisfied: gpt4all in /home/kosta/miniconda3/envs/langchain/lib/python3.11/site-packages (2.2.1.post1)\n",
      "Requirement already satisfied: requests in /home/kosta/miniconda3/envs/langchain/lib/python3.11/site-packages (from gpt4all) (2.31.0)\n",
      "Requirement already satisfied: tqdm in /home/kosta/miniconda3/envs/langchain/lib/python3.11/site-packages (from gpt4all) (4.66.2)\n",
      "Requirement already satisfied: charset-normalizer<4,>=2 in /home/kosta/miniconda3/envs/langchain/lib/python3.11/site-packages (from requests->gpt4all) (3.3.2)\n",
      "Requirement already satisfied: idna<4,>=2.5 in /home/kosta/miniconda3/envs/langchain/lib/python3.11/site-packages (from requests->gpt4all) (3.6)\n",
      "Requirement already satisfied: urllib3<3,>=1.21.1 in /home/kosta/miniconda3/envs/langchain/lib/python3.11/site-packages (from requests->gpt4all) (2.2.1)\n",
      "Requirement already satisfied: certifi>=2017.4.17 in /home/kosta/miniconda3/envs/langchain/lib/python3.11/site-packages (from requests->gpt4all) (2024.2.2)\n",
      "Requirement already satisfied: huggingface-hub in /home/kosta/miniconda3/envs/langchain/lib/python3.11/site-packages (0.21.4)\n",
      "Requirement already satisfied: filelock in /home/kosta/miniconda3/envs/langchain/lib/python3.11/site-packages (from huggingface-hub) (3.13.1)\n",
      "Requirement already satisfied: fsspec>=2023.5.0 in /home/kosta/miniconda3/envs/langchain/lib/python3.11/site-packages (from huggingface-hub) (2024.3.1)\n",
      "Requirement already satisfied: requests in /home/kosta/miniconda3/envs/langchain/lib/python3.11/site-packages (from huggingface-hub) (2.31.0)\n",
      "Requirement already satisfied: tqdm>=4.42.1 in /home/kosta/miniconda3/envs/langchain/lib/python3.11/site-packages (from huggingface-hub) (4.66.2)\n",
      "Requirement already satisfied: pyyaml>=5.1 in /home/kosta/miniconda3/envs/langchain/lib/python3.11/site-packages (from huggingface-hub) (6.0.1)\n",
      "Requirement already satisfied: typing-extensions>=3.7.4.3 in /home/kosta/miniconda3/envs/langchain/lib/python3.11/site-packages (from huggingface-hub) (4.10.0)\n",
      "Requirement already satisfied: packaging>=20.9 in /home/kosta/miniconda3/envs/langchain/lib/python3.11/site-packages (from huggingface-hub) (23.2)\n",
      "Requirement already satisfied: charset-normalizer<4,>=2 in /home/kosta/miniconda3/envs/langchain/lib/python3.11/site-packages (from requests->huggingface-hub) (3.3.2)\n",
      "Requirement already satisfied: idna<4,>=2.5 in /home/kosta/miniconda3/envs/langchain/lib/python3.11/site-packages (from requests->huggingface-hub) (3.6)\n",
      "Requirement already satisfied: urllib3<3,>=1.21.1 in /home/kosta/miniconda3/envs/langchain/lib/python3.11/site-packages (from requests->huggingface-hub) (2.2.1)\n",
      "Requirement already satisfied: certifi>=2017.4.17 in /home/kosta/miniconda3/envs/langchain/lib/python3.11/site-packages (from requests->huggingface-hub) (2024.2.2)\n",
      "Requirement already satisfied: pypdf in /home/kosta/miniconda3/envs/langchain/lib/python3.11/site-packages (4.2.0)\n"
     ]
    }
   ],
   "source": [
    "# Install langchain\n",
    "!pip install langchain\n",
    "\n",
    "# Install vectorStore\n",
    "!pip install faiss-cpu\n",
    "\n",
    "# Install gpt4all\n",
    "!pip install gpt4all\n",
    "\n",
    "# Install huggingfaceHub\n",
    "!pip install huggingface-hub\n",
    "\n",
    "# Install PyPdf for working with PDFs\n",
    "!pip install pypdf\n"
   ]
  },
  {
   "cell_type": "markdown",
   "metadata": {},
   "source": [
    "Quellen\n",
    "- https://medium.com/@vikastiwari708409/how-to-use-gpt4all-llms-with-langchain-to-work-with-pdf-files-f0f0becadcb6"
   ]
  },
  {
   "cell_type": "code",
   "execution_count": 9,
   "metadata": {},
   "outputs": [
    {
     "name": "stdout",
     "output_type": "stream",
     "text": [
      " First, we need to find the customer with the first name \"Greg\" and last name \"Mata\". In our context, this is Customer Id F8Aa9d6DfcBeeF8. Then, we look for their email address which is jaredjuarez@carroll.org. So, Greg Mata's mail adress is jaredjuarez@carroll.org.\n"
     ]
    }
   ],
   "source": [
    "from langchain.document_loaders import CSVLoader\n",
    "from langchain import PromptTemplate, LLMChain\n",
    "from langchain.embeddings import HuggingFaceEmbeddings\n",
    "from langchain.llms import GPT4All\n",
    "from langchain.text_splitter import RecursiveCharacterTextSplitter\n",
    "from langchain.vectorstores.faiss import FAISS\n",
    "from langchain.callbacks.base import BaseCallbackManager\n",
    "from langchain.callbacks.streaming_stdout import StreamingStdOutCallbackHandler\n",
    "from pathlib import Path\n",
    "\n",
    "documents = CSVLoader('./Resources/customers-100.csv').load_and_split()\n",
    "text_splitter = RecursiveCharacterTextSplitter(chunk_size=1024,chunk_overlap=64)\n",
    "texts = text_splitter.split_documents(documents)\n",
    "embeddings = HuggingFaceEmbeddings(model_name='sentence-transformers/all-MiniLM-L6-v2')\n",
    "faiss_index = FAISS.from_documents(texts, embeddings)\n",
    "faiss_index.save_local(\"./Output/customers-100_faiss.db\")\n",
    "\n",
    "\n",
    "# # Set your query here manually\n",
    "question = \"Wie lautet die Mail Adresse von Greg Mata\"\n",
    "matched_docs = faiss_index.similarity_search(question, 4)\n",
    "context = \"\"\n",
    "for doc in matched_docs:\n",
    "    context = context + doc.page_content + \" \\n\\n \"\n",
    "\n",
    "template = \"\"\"\n",
    "Please use the following context to answer questions.\n",
    "Context: {context}\n",
    " - -\n",
    "Question: {question}\n",
    "Answer: Let's think step by step.\"\"\"\n",
    "\n",
    "callback_manager = BaseCallbackManager([StreamingStdOutCallbackHandler()])\n",
    "# llm = GPT4All(\n",
    "#     model=f\"{Path.home()}/Models/mistral-7b-openorca.Q4_0.gguf\",\n",
    "#                                 n_ctx=1000, \n",
    "#                                 callback_manager=callback_manager, \n",
    "#                                 verbose=True,\n",
    "#                                 repeat_last_n=0\n",
    "#                                 )\n",
    "llm = GPT4All(model=f\"{Path.home()}/Models/mistral-7b-openorca.Q4_0.gguf\", n_threads=8)\n",
    "prompt = PromptTemplate(template=template, input_variables=[\"context\", \"question\"]).partial(context=context)\n",
    "llm_chain = LLMChain(prompt=prompt, llm=llm)\n",
    "print(llm_chain.run(question))"
   ]
  }
 ],
 "metadata": {
  "kernelspec": {
   "display_name": "langchain",
   "language": "python",
   "name": "python3"
  },
  "language_info": {
   "codemirror_mode": {
    "name": "ipython",
    "version": 3
   },
   "file_extension": ".py",
   "mimetype": "text/x-python",
   "name": "python",
   "nbconvert_exporter": "python",
   "pygments_lexer": "ipython3",
   "version": "3.11.8"
  }
 },
 "nbformat": 4,
 "nbformat_minor": 2
}
