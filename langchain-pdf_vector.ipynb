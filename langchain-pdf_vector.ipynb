{
 "cells": [
  {
   "cell_type": "markdown",
   "metadata": {},
   "source": [
    "# Experiment: Zugriff auf ein PDF File via Langhain und Mystral\n",
    "\n",
    "Quellen\n",
    "- https://medium.com/@vikastiwari708409/how-to-use-gpt4all-llms-with-langchain-to-work-with-pdf-files-f0f0becadcb6\n"
   ]
  },
  {
   "cell_type": "code",
   "execution_count": null,
   "metadata": {
    "vscode": {
     "languageId": "shellscript"
    }
   },
   "outputs": [],
   "source": [
    "# Install langchain\n",
    "!pip install langchain\n",
    "\n",
    "# Install vectorStore\n",
    "!pip install faiss-cpu\n",
    "\n",
    "# Install gpt4all\n",
    "!pip install gpt4all\n",
    "\n",
    "# Install huggingfaceHub\n",
    "!pip install huggingface-hub\n",
    "\n",
    "# Install PyPdf for working with PDFs\n",
    "!pip install pypdf"
   ]
  },
  {
   "cell_type": "code",
   "execution_count": 1,
   "metadata": {},
   "outputs": [
    {
     "name": "stderr",
     "output_type": "stream",
     "text": [
      "/home/kosta/miniconda3/envs/langchain/lib/python3.11/site-packages/langchain_core/_api/deprecation.py:117: LangChainDeprecationWarning: The function `run` was deprecated in LangChain 0.1.0 and will be removed in 0.2.0. Use invoke instead.\n",
      "  warn_deprecated(\n",
      "Exception ignored on calling ctypes callback function: <function LLModel._prompt_callback at 0x7f107820dee0>\n",
      "Traceback (most recent call last):\n",
      "  File \"/home/kosta/miniconda3/envs/langchain/lib/python3.11/site-packages/gpt4all/_pyllmodel.py\", line 434, in _prompt_callback\n",
      "    @staticmethod\n",
      "\n",
      "KeyboardInterrupt: \n"
     ]
    },
    {
     "name": "stdout",
     "output_type": "stream",
     "text": [
      "\n"
     ]
    }
   ],
   "source": [
    "from langchain.document_loaders import PyPDFLoader\n",
    "from langchain import PromptTemplate, LLMChain\n",
    "from langchain.embeddings import HuggingFaceEmbeddings\n",
    "from langchain.llms import GPT4All\n",
    "from langchain.text_splitter import RecursiveCharacterTextSplitter\n",
    "from langchain.vectorstores.faiss import FAISS\n",
    "from langchain.callbacks.base import BaseCallbackManager\n",
    "from langchain.callbacks.streaming_stdout import StreamingStdOutCallbackHandler\n",
    "from pathlib import Path\n",
    "\n",
    "\n",
    "documents = PyPDFLoader('./Resources/homematic-ip-anwenderhandbuch.pdf').load_and_split()\n",
    "text_splitter = RecursiveCharacterTextSplitter(chunk_size=1024,chunk_overlap=64)\n",
    "texts = text_splitter.split_documents(documents)\n",
    "embeddings = HuggingFaceEmbeddings(model_name='sentence-transformers/all-MiniLM-L6-v2')\n",
    "faiss_index = FAISS.from_documents(texts, embeddings)\n",
    "faiss_index.save_local(\"./Output/langchain-csv_vector_faiss.db\")\n",
    "\n",
    "\n",
    "# Set your query here manually\n",
    "question = \"Nenne mir einige Details zu Home Connect Plus\"\n",
    "matched_docs = faiss_index.similarity_search(question, 4)\n",
    "context = \"\"\n",
    "for doc in matched_docs:\n",
    "    context = context + doc.page_content + \" \\n\\n \"\n",
    "\n",
    "template = \"\"\"\n",
    "Please use the following context to answer questions.\n",
    "Context: {context}\n",
    " - -\n",
    "Question: {question}\n",
    "Answer: Let's think step by step.\"\"\"\n",
    "\n",
    "callback_manager = BaseCallbackManager([StreamingStdOutCallbackHandler()])\n",
    "llm = GPT4All(model=f\"{Path.home()}/Models/mistral-7b-openorca.Q4_0.gguf\", \n",
    "              callback_manager=callback_manager, \n",
    "              verbose=True, \n",
    "              n_threads=8\n",
    "              )\n",
    "prompt = PromptTemplate(template=template, input_variables=[\"context\", \"question\"]).partial(context=context)\n",
    "llm_chain = LLMChain(prompt=prompt, llm=llm)\n",
    "print(llm_chain.run(question))"
   ]
  }
 ],
 "metadata": {
  "kernelspec": {
   "display_name": "langchain",
   "language": "python",
   "name": "python3"
  },
  "language_info": {
   "codemirror_mode": {
    "name": "ipython",
    "version": 3
   },
   "file_extension": ".py",
   "mimetype": "text/x-python",
   "name": "python",
   "nbconvert_exporter": "python",
   "pygments_lexer": "ipython3",
   "version": "3.11.8"
  }
 },
 "nbformat": 4,
 "nbformat_minor": 2
}
