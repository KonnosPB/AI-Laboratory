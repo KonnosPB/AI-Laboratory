{
 "cells": [
  {
   "cell_type": "markdown",
   "metadata": {},
   "source": [
    "# 1. Experiment Fragen an azure open ai zu einem CSV File stellen mit einer lokalen Vector Detenbank\n"
   ]
  },
  {
   "cell_type": "markdown",
   "metadata": {},
   "source": [
    "## Experiment mit azure open ai embedding model"
   ]
  },
  {
   "cell_type": "code",
   "execution_count": 3,
   "metadata": {},
   "outputs": [
    {
     "ename": "ValidationError",
     "evalue": "1 validation error for OpenAIEmbeddings\n__root__\n  Did not find openai_api_key, please add an environment variable `OPENAI_API_KEY` which contains it, or pass `openai_api_key` as a named parameter. (type=value_error)",
     "output_type": "error",
     "traceback": [
      "\u001b[0;31m---------------------------------------------------------------------------\u001b[0m",
      "\u001b[0;31mValidationError\u001b[0m                           Traceback (most recent call last)",
      "Cell \u001b[0;32mIn[3], line 15\u001b[0m\n\u001b[1;32m     13\u001b[0m text_splitter \u001b[38;5;241m=\u001b[39m RecursiveCharacterTextSplitter(chunk_size\u001b[38;5;241m=\u001b[39m\u001b[38;5;241m1024\u001b[39m,chunk_overlap\u001b[38;5;241m=\u001b[39m\u001b[38;5;241m64\u001b[39m)\n\u001b[1;32m     14\u001b[0m texts \u001b[38;5;241m=\u001b[39m text_splitter\u001b[38;5;241m.\u001b[39msplit_documents(documents)\n\u001b[0;32m---> 15\u001b[0m embeddings \u001b[38;5;241m=\u001b[39m \u001b[43mOpenAIEmbeddings\u001b[49m\u001b[43m(\u001b[49m\u001b[43m)\u001b[49m\n\u001b[1;32m     17\u001b[0m faiss_index \u001b[38;5;241m=\u001b[39m FAISS\u001b[38;5;241m.\u001b[39mfrom_documents(texts, embeddings)\n\u001b[1;32m     18\u001b[0m faiss_index\u001b[38;5;241m.\u001b[39msave_local(\u001b[38;5;124m\"\u001b[39m\u001b[38;5;124m./Output/customers-100_faiss_az.db\u001b[39m\u001b[38;5;124m\"\u001b[39m)\n",
      "File \u001b[0;32m~/miniconda3/envs/langchain/lib/python3.11/site-packages/pydantic/v1/main.py:341\u001b[0m, in \u001b[0;36mBaseModel.__init__\u001b[0;34m(__pydantic_self__, **data)\u001b[0m\n\u001b[1;32m    339\u001b[0m values, fields_set, validation_error \u001b[38;5;241m=\u001b[39m validate_model(__pydantic_self__\u001b[38;5;241m.\u001b[39m\u001b[38;5;18m__class__\u001b[39m, data)\n\u001b[1;32m    340\u001b[0m \u001b[38;5;28;01mif\u001b[39;00m validation_error:\n\u001b[0;32m--> 341\u001b[0m     \u001b[38;5;28;01mraise\u001b[39;00m validation_error\n\u001b[1;32m    342\u001b[0m \u001b[38;5;28;01mtry\u001b[39;00m:\n\u001b[1;32m    343\u001b[0m     object_setattr(__pydantic_self__, \u001b[38;5;124m'\u001b[39m\u001b[38;5;124m__dict__\u001b[39m\u001b[38;5;124m'\u001b[39m, values)\n",
      "\u001b[0;31mValidationError\u001b[0m: 1 validation error for OpenAIEmbeddings\n__root__\n  Did not find openai_api_key, please add an environment variable `OPENAI_API_KEY` which contains it, or pass `openai_api_key` as a named parameter. (type=value_error)"
     ]
    }
   ],
   "source": [
    "from langchain_openai import AzureChatOpenAI, AzureOpenAIEmbeddings\n",
    "from langchain.callbacks.streaming_stdout import StreamingStdOutCallbackHandler\n",
    "from langchain.callbacks.base import BaseCallbackManager\n",
    "from langchain.document_loaders import CSVLoader\n",
    "from langchain import PromptTemplate, LLMChain\n",
    "from langchain_openai import OpenAIEmbeddings\n",
    "from langchain.text_splitter import RecursiveCharacterTextSplitter\n",
    "from langchain.vectorstores.faiss import FAISS\n",
    "from pathlib import Path\n",
    "\n",
    "documents = CSVLoader('./Resources/customers-100.csv').load_and_split()\n",
    "text_splitter = RecursiveCharacterTextSplitter(chunk_size=1024,chunk_overlap=64)\n",
    "texts = text_splitter.split_documents(documents)\n",
    "embeddings = AzureOpenAIEmbeddings(model=\"text-embedding-3-large\")\n",
    "\n",
    "faiss_index = FAISS.from_documents(texts, embeddings)\n",
    "faiss_index.save_local(\"./Output/customers-100_faiss_az.db\")\n",
    "\n",
    "callbacks = [StreamingStdOutCallbackHandler()]\n",
    "model = AzureChatOpenAI(\n",
    "    azure_deployment = \"gpt-4-32k\",\n",
    "    streaming=True,\n",
    "    callback_manager=BaseCallbackManager([\n",
    "        StreamingStdOutCallbackHandler()]),\n",
    ")\n",
    "\n",
    "# Set your query here manually\n",
    "question = \"Wie lautet die Mail Adresse von Greg Mata\"\n",
    "matched_docs = faiss_index.similarity_search(question, 4)\n",
    "context = \"\"\n",
    "for doc in matched_docs:\n",
    "    context = context + doc.page_content + \" \\n\\n \"\n",
    "\n",
    "template = \"\"\"\n",
    "Please use the following context to answer questions.\n",
    "Context: {context}\n",
    " - -\n",
    "Question: {question}\n",
    "Answer: Let's think step by step.\"\"\"\n",
    "\n",
    "callback_manager = BaseCallbackManager([StreamingStdOutCallbackHandler()])\n",
    "prompt = PromptTemplate(template=template, input_variables=[\"context\", \"question\"]).partial(context=context)\n",
    "llm_chain = LLMChain(prompt=prompt, llm=model)\n",
    "print(llm_chain.run(question))"
   ]
  },
  {
   "cell_type": "markdown",
   "metadata": {},
   "source": [
    "## Experiment mit hugging face embedding model"
   ]
  },
  {
   "cell_type": "code",
   "execution_count": 1,
   "metadata": {},
   "outputs": [
    {
     "name": "stderr",
     "output_type": "stream",
     "text": [
      "/home/kosta/miniconda3/envs/langchain/lib/python3.11/site-packages/langchain_core/_api/deprecation.py:117: LangChainDeprecationWarning: The function `run` was deprecated in LangChain 0.1.0 and will be removed in 0.2.0. Use invoke instead.\n",
      "  warn_deprecated(\n"
     ]
    },
    {
     "name": "stdout",
     "output_type": "stream",
     "text": [
      "\n",
      "\n",
      "\u001b[1m> Entering new AgentExecutor chain...\u001b[0m\n",
      "Thought: To find out the number of rows and columns in the dataframe, I can use the `shape` attribute of the dataframe.\n",
      "Action: python_repl_ast\n",
      "Action Input: df.shape\u001b[32;1m\u001b[1;3mThought: To find out the number of rows and columns in the dataframe, I can use the `shape` attribute of the dataframe.\n",
      "Action: python_repl_ast\n",
      "Action Input: df.shape\u001b[0m\u001b[36;1m\u001b[1;3m(100, 12)\u001b[0mThe shape attribute of the dataframe returned a tuple with two values. The first value represents the number of rows and the second value represents the number of columns.\n",
      "Final Answer: The dataframe has 100 rows and 12 columns.\u001b[32;1m\u001b[1;3mThe shape attribute of the dataframe returned a tuple with two values. The first value represents the number of rows and the second value represents the number of columns.\n",
      "Final Answer: The dataframe has 100 rows and 12 columns.\u001b[0m\n",
      "\n",
      "\u001b[1m> Finished chain.\u001b[0m\n",
      "\n",
      "\n",
      "\u001b[1m> Entering new AgentExecutor chain...\u001b[0m\n",
      "Thought: To find the email address of Yvonne Farmer, I need to filter the dataframe where the First Name is 'Yvonne' and the Last Name is 'Farmer'.\n",
      "Action: python_repl_ast\n",
      "Action Input: df[(df['First Name'] == 'Yvonne') & (df['Last Name'] == 'Farmer')]['Email']\u001b[32;1m\u001b[1;3mThought: To find the email address of Yvonne Farmer, I need to filter the dataframe where the First Name is 'Yvonne' and the Last Name is 'Farmer'.\n",
      "Action: python_repl_ast\n",
      "Action Input: df[(df['First Name'] == 'Yvonne') & (df['Last Name'] == 'Farmer')]['Email']\u001b[0m\u001b[36;1m\u001b[1;3m98    mccarthystephen@horn-green.biz\n",
      "Name: Email, dtype: object\u001b[0mI now know the email address of Yvonne Farmer.\n",
      "Final Answer: The email address of Yvonne Farmer is mccarthystephen@horn-green.biz.\u001b[32;1m\u001b[1;3mI now know the email address of Yvonne Farmer.\n",
      "Final Answer: The email address of Yvonne Farmer is mccarthystephen@horn-green.biz.\u001b[0m\n",
      "\n",
      "\u001b[1m> Finished chain.\u001b[0m\n",
      "The email address of Greg Mata is jaredjuarez@carroll.org.The email address of Greg Mata is jaredjuarez@carroll.org.\n"
     ]
    }
   ],
   "source": [
    "from langchain.agents.agent_types import AgentType\n",
    "from langchain_openai import ChatOpenAI, OpenAI, AzureChatOpenAI\n",
    "from langchain.callbacks.streaming_stdout import StreamingStdOutCallbackHandler\n",
    "from langchain.callbacks.base import BaseCallbackManager\n",
    "from langchain.document_loaders import CSVLoader\n",
    "from langchain import PromptTemplate, LLMChain\n",
    "from langchain.embeddings import HuggingFaceEmbeddings\n",
    "from langchain_openai import OpenAIEmbeddings\n",
    "from langchain.text_splitter import RecursiveCharacterTextSplitter\n",
    "from langchain.vectorstores.faiss import FAISS\n",
    "from pathlib import Path\n",
    "\n",
    "documents = CSVLoader('./Resources/customers-100.csv').load_and_split()\n",
    "text_splitter = RecursiveCharacterTextSplitter(chunk_size=1024,chunk_overlap=64)\n",
    "texts = text_splitter.split_documents(documents)\n",
    "embeddings = HuggingFaceEmbeddings(model_name='sentence-transformers/all-MiniLM-L6-v2')\n",
    "\n",
    "faiss_index = FAISS.from_documents(texts, embeddings)\n",
    "faiss_index.save_local(\"./Output/customers-100_faiss.db\")\n",
    "\n",
    "callbacks = [StreamingStdOutCallbackHandler()]\n",
    "model = AzureChatOpenAI(\n",
    "    azure_deployment = \"gpt-4-32k\",\n",
    "    streaming=True,\n",
    "    callback_manager=BaseCallbackManager([\n",
    "        StreamingStdOutCallbackHandler()]),\n",
    ")\n",
    "\n",
    "# Set your query here manually\n",
    "question = \"Wie lautet die Mail Adresse von Greg Mata\"\n",
    "matched_docs = faiss_index.similarity_search(question, 4)\n",
    "context = \"\"\n",
    "for doc in matched_docs:\n",
    "    context = context + doc.page_content + \" \\n\\n \"\n",
    "\n",
    "template = \"\"\"\n",
    "Please use the following context to answer questions.\n",
    "Context: {context}\n",
    " - -\n",
    "Question: {question}\n",
    "Answer: Let's think step by step.\"\"\"\n",
    "\n",
    "callback_manager = BaseCallbackManager([StreamingStdOutCallbackHandler()])\n",
    "prompt = PromptTemplate(template=template, input_variables=[\"context\", \"question\"]).partial(context=context)\n",
    "llm_chain = LLMChain(prompt=prompt, llm=model)\n",
    "print(llm_chain.run(question))"
   ]
  }
 ],
 "metadata": {
  "kernelspec": {
   "display_name": "langchain",
   "language": "python",
   "name": "python3"
  },
  "language_info": {
   "codemirror_mode": {
    "name": "ipython",
    "version": 3
   },
   "file_extension": ".py",
   "mimetype": "text/x-python",
   "name": "python",
   "nbconvert_exporter": "python",
   "pygments_lexer": "ipython3",
   "version": "3.11.8"
  }
 },
 "nbformat": 4,
 "nbformat_minor": 2
}
