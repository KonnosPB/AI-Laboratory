{
 "cells": [
  {
   "cell_type": "markdown",
   "metadata": {},
   "source": [
    "# Beispiel Langchain mit Azure Open AI \n",
    "\n",
    "[https://python.langchain.com/docs/integrations/chat/azure_chat_openai](https://python.langchain.com/docs/integrations/chat/azure_chat_openai)\n",
    "\n",
    "- Damit das Beispiel funktioniert, müssen folgende Umgebungsvariablen angelegt sein:\n",
    "    - `AZURE_OPENAI_ENDPOINT` [Beispielsweise  https://<base>.openai.azure.com/]\n",
    "    - `OPENAI_API_VERSION` [Beispielsweise 2023-07-01-preview]\n",
    "    - `AZURE_OPENAI_API_KEY `\n",
    "    - `OPENAI_ORG_ID` <firmenname>\n",
    "    - `OPENAI_API_DEPLOYMENT_NAME` [Beispielsweise  gpt-4-32k]\n",
    "    - `OPENAI_API_MODEL`  [Beispielsweise  gpt-4-32k]\n",
    "\n",
    "-   Es ist zu beachten, dass keine anderen OPEN_AI Umgebungsvariablen angelegt sein dürfen, weil der Programmablauf gegebenfalls ungewollt verzweigt. \n",
    "    Also wirklich nur die oben erwähnten Variablen.\n",
    "\n",
    "-   Die verwendete FAISS library benötigte zum Zeitpunkt der Erstellung dieses Notebooks Pyhton 3.11.7. Ich bin deswegen auf die lancedb ausgewichen, die eine Unterstützung von 3.12.2 hatte.\n",
    "\n",
    "-   Das nachfolgendeo Kommand installiert notwendige python Libraries\n",
    "    `pip install -U langchain-community faiss-cpu langchain-openai tiktoken langchain-openai`"
   ]
  },
  {
   "cell_type": "code",
   "execution_count": 2,
   "metadata": {
    "vscode": {
     "languageId": "shellscript"
    }
   },
   "outputs": [
    {
     "name": "stdout",
     "output_type": "stream",
     "text": [
      "Collecting langchain\n",
      "  Downloading langchain-0.1.6-py3-none-any.whl.metadata (13 kB)\n",
      "Requirement already satisfied: langchain-community in c:\\users\\kosta\\appdata\\local\\programs\\python\\python312\\lib\\site-packages (0.0.19)\n",
      "Requirement already satisfied: lancedb in c:\\users\\kosta\\appdata\\local\\programs\\python\\python312\\lib\\site-packages (0.5.3)\n",
      "Requirement already satisfied: langchain-openai in c:\\users\\kosta\\appdata\\local\\programs\\python\\python312\\lib\\site-packages (0.0.5)\n",
      "Requirement already satisfied: tiktoken in c:\\users\\kosta\\appdata\\local\\programs\\python\\python312\\lib\\site-packages (0.5.2)\n",
      "Collecting tiktoken\n",
      "  Using cached tiktoken-0.6.0-cp312-cp312-win_amd64.whl.metadata (6.8 kB)\n",
      "Requirement already satisfied: openai in c:\\users\\kosta\\appdata\\local\\programs\\python\\python312\\lib\\site-packages (1.12.0)\n",
      "Requirement already satisfied: PyYAML>=5.3 in c:\\users\\kosta\\appdata\\local\\programs\\python\\python312\\lib\\site-packages (from langchain) (6.0.1)\n",
      "Requirement already satisfied: SQLAlchemy<3,>=1.4 in c:\\users\\kosta\\appdata\\local\\programs\\python\\python312\\lib\\site-packages (from langchain) (2.0.25)\n",
      "Requirement already satisfied: aiohttp<4.0.0,>=3.8.3 in c:\\users\\kosta\\appdata\\local\\programs\\python\\python312\\lib\\site-packages (from langchain) (3.9.3)\n",
      "Requirement already satisfied: dataclasses-json<0.7,>=0.5.7 in c:\\users\\kosta\\appdata\\local\\programs\\python\\python312\\lib\\site-packages (from langchain) (0.6.4)\n",
      "Requirement already satisfied: jsonpatch<2.0,>=1.33 in c:\\users\\kosta\\appdata\\local\\programs\\python\\python312\\lib\\site-packages (from langchain) (1.33)\n",
      "Requirement already satisfied: langchain-core<0.2,>=0.1.22 in c:\\users\\kosta\\appdata\\local\\programs\\python\\python312\\lib\\site-packages (from langchain) (0.1.22)\n",
      "Requirement already satisfied: langsmith<0.1,>=0.0.83 in c:\\users\\kosta\\appdata\\local\\programs\\python\\python312\\lib\\site-packages (from langchain) (0.0.87)\n",
      "Requirement already satisfied: numpy<2,>=1 in c:\\users\\kosta\\appdata\\local\\programs\\python\\python312\\lib\\site-packages (from langchain) (1.26.4)\n",
      "Requirement already satisfied: pydantic<3,>=1 in c:\\users\\kosta\\appdata\\local\\programs\\python\\python312\\lib\\site-packages (from langchain) (2.6.1)\n",
      "Requirement already satisfied: requests<3,>=2 in c:\\users\\kosta\\appdata\\local\\programs\\python\\python312\\lib\\site-packages (from langchain) (2.31.0)\n",
      "Requirement already satisfied: tenacity<9.0.0,>=8.1.0 in c:\\users\\kosta\\appdata\\local\\programs\\python\\python312\\lib\\site-packages (from langchain) (8.2.3)\n",
      "Requirement already satisfied: deprecation in c:\\users\\kosta\\appdata\\local\\programs\\python\\python312\\lib\\site-packages (from lancedb) (2.1.0)\n",
      "Requirement already satisfied: pylance==0.9.12 in c:\\users\\kosta\\appdata\\local\\programs\\python\\python312\\lib\\site-packages (from lancedb) (0.9.12)\n",
      "Requirement already satisfied: ratelimiter~=1.0 in c:\\users\\kosta\\appdata\\local\\programs\\python\\python312\\lib\\site-packages (from lancedb) (1.2.0.post0)\n",
      "Requirement already satisfied: retry>=0.9.2 in c:\\users\\kosta\\appdata\\local\\programs\\python\\python312\\lib\\site-packages (from lancedb) (0.9.2)\n",
      "Requirement already satisfied: tqdm>=4.27.0 in c:\\users\\kosta\\appdata\\local\\programs\\python\\python312\\lib\\site-packages (from lancedb) (4.66.1)\n",
      "Requirement already satisfied: attrs>=21.3.0 in c:\\users\\kosta\\appdata\\local\\programs\\python\\python312\\lib\\site-packages (from lancedb) (23.2.0)\n",
      "Requirement already satisfied: semver>=3.0 in c:\\users\\kosta\\appdata\\local\\programs\\python\\python312\\lib\\site-packages (from lancedb) (3.0.2)\n",
      "Requirement already satisfied: cachetools in c:\\users\\kosta\\appdata\\local\\programs\\python\\python312\\lib\\site-packages (from lancedb) (5.3.2)\n",
      "Requirement already satisfied: click>=8.1.7 in c:\\users\\kosta\\appdata\\local\\programs\\python\\python312\\lib\\site-packages (from lancedb) (8.1.7)\n",
      "Requirement already satisfied: overrides>=0.7 in c:\\users\\kosta\\appdata\\local\\programs\\python\\python312\\lib\\site-packages (from lancedb) (7.7.0)\n",
      "Requirement already satisfied: pyarrow>=12 in c:\\users\\kosta\\appdata\\local\\programs\\python\\python312\\lib\\site-packages (from pylance==0.9.12->lancedb) (15.0.0)\n",
      "Requirement already satisfied: regex>=2022.1.18 in c:\\users\\kosta\\appdata\\local\\programs\\python\\python312\\lib\\site-packages (from tiktoken) (2023.12.25)\n",
      "Requirement already satisfied: anyio<5,>=3.5.0 in c:\\users\\kosta\\appdata\\local\\programs\\python\\python312\\lib\\site-packages (from openai) (4.2.0)\n",
      "Requirement already satisfied: distro<2,>=1.7.0 in c:\\users\\kosta\\appdata\\local\\programs\\python\\python312\\lib\\site-packages (from openai) (1.9.0)\n",
      "Requirement already satisfied: httpx<1,>=0.23.0 in c:\\users\\kosta\\appdata\\local\\programs\\python\\python312\\lib\\site-packages (from openai) (0.26.0)\n",
      "Requirement already satisfied: sniffio in c:\\users\\kosta\\appdata\\local\\programs\\python\\python312\\lib\\site-packages (from openai) (1.3.0)\n",
      "Requirement already satisfied: typing-extensions<5,>=4.7 in c:\\users\\kosta\\appdata\\local\\programs\\python\\python312\\lib\\site-packages (from openai) (4.9.0)\n",
      "Requirement already satisfied: aiosignal>=1.1.2 in c:\\users\\kosta\\appdata\\local\\programs\\python\\python312\\lib\\site-packages (from aiohttp<4.0.0,>=3.8.3->langchain) (1.3.1)\n",
      "Requirement already satisfied: frozenlist>=1.1.1 in c:\\users\\kosta\\appdata\\local\\programs\\python\\python312\\lib\\site-packages (from aiohttp<4.0.0,>=3.8.3->langchain) (1.4.1)\n",
      "Requirement already satisfied: multidict<7.0,>=4.5 in c:\\users\\kosta\\appdata\\local\\programs\\python\\python312\\lib\\site-packages (from aiohttp<4.0.0,>=3.8.3->langchain) (6.0.5)\n",
      "Requirement already satisfied: yarl<2.0,>=1.0 in c:\\users\\kosta\\appdata\\local\\programs\\python\\python312\\lib\\site-packages (from aiohttp<4.0.0,>=3.8.3->langchain) (1.9.4)\n",
      "Requirement already satisfied: idna>=2.8 in c:\\users\\kosta\\appdata\\local\\programs\\python\\python312\\lib\\site-packages (from anyio<5,>=3.5.0->openai) (3.6)\n",
      "Requirement already satisfied: colorama in c:\\users\\kosta\\appdata\\roaming\\python\\python312\\site-packages (from click>=8.1.7->lancedb) (0.4.6)\n",
      "Requirement already satisfied: marshmallow<4.0.0,>=3.18.0 in c:\\users\\kosta\\appdata\\local\\programs\\python\\python312\\lib\\site-packages (from dataclasses-json<0.7,>=0.5.7->langchain) (3.20.2)\n",
      "Requirement already satisfied: typing-inspect<1,>=0.4.0 in c:\\users\\kosta\\appdata\\local\\programs\\python\\python312\\lib\\site-packages (from dataclasses-json<0.7,>=0.5.7->langchain) (0.9.0)\n",
      "Requirement already satisfied: certifi in c:\\users\\kosta\\appdata\\local\\programs\\python\\python312\\lib\\site-packages (from httpx<1,>=0.23.0->openai) (2024.2.2)\n",
      "Requirement already satisfied: httpcore==1.* in c:\\users\\kosta\\appdata\\local\\programs\\python\\python312\\lib\\site-packages (from httpx<1,>=0.23.0->openai) (1.0.2)\n",
      "Requirement already satisfied: h11<0.15,>=0.13 in c:\\users\\kosta\\appdata\\local\\programs\\python\\python312\\lib\\site-packages (from httpcore==1.*->httpx<1,>=0.23.0->openai) (0.14.0)\n",
      "Requirement already satisfied: jsonpointer>=1.9 in c:\\users\\kosta\\appdata\\local\\programs\\python\\python312\\lib\\site-packages (from jsonpatch<2.0,>=1.33->langchain) (2.4)\n",
      "Requirement already satisfied: packaging<24.0,>=23.2 in c:\\users\\kosta\\appdata\\roaming\\python\\python312\\site-packages (from langchain-core<0.2,>=0.1.22->langchain) (23.2)\n",
      "Requirement already satisfied: annotated-types>=0.4.0 in c:\\users\\kosta\\appdata\\local\\programs\\python\\python312\\lib\\site-packages (from pydantic<3,>=1->langchain) (0.6.0)\n",
      "Requirement already satisfied: pydantic-core==2.16.2 in c:\\users\\kosta\\appdata\\local\\programs\\python\\python312\\lib\\site-packages (from pydantic<3,>=1->langchain) (2.16.2)\n",
      "Requirement already satisfied: charset-normalizer<4,>=2 in c:\\users\\kosta\\appdata\\local\\programs\\python\\python312\\lib\\site-packages (from requests<3,>=2->langchain) (3.3.2)\n",
      "Requirement already satisfied: urllib3<3,>=1.21.1 in c:\\users\\kosta\\appdata\\local\\programs\\python\\python312\\lib\\site-packages (from requests<3,>=2->langchain) (2.2.0)\n",
      "Requirement already satisfied: decorator>=3.4.2 in c:\\users\\kosta\\appdata\\roaming\\python\\python312\\site-packages (from retry>=0.9.2->lancedb) (5.1.1)\n",
      "Requirement already satisfied: py<2.0.0,>=1.4.26 in c:\\users\\kosta\\appdata\\local\\programs\\python\\python312\\lib\\site-packages (from retry>=0.9.2->lancedb) (1.11.0)\n",
      "Requirement already satisfied: greenlet!=0.4.17 in c:\\users\\kosta\\appdata\\local\\programs\\python\\python312\\lib\\site-packages (from SQLAlchemy<3,>=1.4->langchain) (3.0.3)\n",
      "Requirement already satisfied: mypy-extensions>=0.3.0 in c:\\users\\kosta\\appdata\\local\\programs\\python\\python312\\lib\\site-packages (from typing-inspect<1,>=0.4.0->dataclasses-json<0.7,>=0.5.7->langchain) (1.0.0)\n",
      "Downloading langchain-0.1.6-py3-none-any.whl (811 kB)\n",
      "   ---------------------------------------- 0.0/811.8 kB ? eta -:--:--\n",
      "   - ------------------------------------- 41.0/811.8 kB 991.0 kB/s eta 0:00:01\n",
      "   ------------------- -------------------- 399.4/811.8 kB 5.0 MB/s eta 0:00:01\n",
      "   ---------------------------------------  809.0/811.8 kB 6.4 MB/s eta 0:00:01\n",
      "   ---------------------------------------- 811.8/811.8 kB 6.4 MB/s eta 0:00:00\n",
      "Installing collected packages: langchain\n",
      "Successfully installed langchain-0.1.6\n",
      "Note: you may need to restart the kernel to use updated packages.\n"
     ]
    },
    {
     "name": "stderr",
     "output_type": "stream",
     "text": [
      "  WARNING: The script langchain-server.exe is installed in 'c:\\Users\\Kosta\\AppData\\Local\\Programs\\Python\\Python312\\Scripts' which is not on PATH.\n",
      "  Consider adding this directory to PATH or, if you prefer to suppress this warning, use --no-warn-script-location.\n"
     ]
    }
   ],
   "source": [
    "pip install -U langchain langchain-community lancedb langchain-openai tiktoken openai"
   ]
  },
  {
   "cell_type": "code",
   "execution_count": 3,
   "metadata": {},
   "outputs": [
    {
     "data": {
      "text/plain": [
       "AIMessage(content=\"J'aime la programmation.\")"
      ]
     },
     "execution_count": 3,
     "metadata": {},
     "output_type": "execute_result"
    }
   ],
   "source": [
    "import os\n",
    "from langchain_openai import AzureChatOpenAI\n",
    "from langchain.schema import HumanMessage\n",
    "\n",
    "azure_endpoint = os.getenv(\"AZURE_OPENAI_ENDPOINT\")\n",
    "deployment_name = os.getenv(\"OPENAI_API_DEPLOYMENT_NAME\")\n",
    "model_name = os.getenv(\"OPENAI_API_MODEL\")\n",
    "openai_api_key = os.getenv(\"AZURE_OPENAI_API_KEY\")\n",
    "openai_api_version = os.getenv(\"OPENAI_API_VERSION\")\n",
    "openai_organization = os.getenv(\"OPENAI_ORG_ID\")\n",
    "\n",
    "\n",
    "model = AzureChatOpenAI(   \n",
    "    azure_endpoint = azure_endpoint,\n",
    "    deployment_name=deployment_name,   \n",
    "    model_name=model_name,\n",
    "    openai_api_key=openai_api_key,\n",
    "    openai_api_version=openai_api_version,\n",
    "    openai_organization=openai_organization\n",
    ")\n",
    "\n",
    "\n",
    "message = HumanMessage(\n",
    "    \n",
    "    content=\"Translate this sentence from English to French. I love programming.\"\n",
    ")\n",
    "model([message])"
   ]
  },
  {
   "cell_type": "markdown",
   "metadata": {},
   "source": []
  }
 ],
 "metadata": {
  "kernelspec": {
   "display_name": "Python 3",
   "language": "python",
   "name": "python3"
  },
  "language_info": {
   "codemirror_mode": {
    "name": "ipython",
    "version": 3
   },
   "file_extension": ".py",
   "mimetype": "text/x-python",
   "name": "python",
   "nbconvert_exporter": "python",
   "pygments_lexer": "ipython3",
   "version": "3.10.14"
  },
  "orig_nbformat": 4
 },
 "nbformat": 4,
 "nbformat_minor": 2
}
