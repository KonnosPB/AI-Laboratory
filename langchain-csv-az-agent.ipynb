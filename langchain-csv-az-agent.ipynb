{
 "cells": [
  {
   "cell_type": "markdown",
   "metadata": {},
   "source": [
    "# 1. Experiment Fragen an azure open ai zu einem CSV File stellen mit dem csv agent\n"
   ]
  },
  {
   "cell_type": "code",
   "execution_count": 1,
   "metadata": {},
   "outputs": [
    {
     "name": "stderr",
     "output_type": "stream",
     "text": [
      "/home/kosta/miniconda3/envs/langchain/lib/python3.11/site-packages/langchain_core/_api/deprecation.py:117: LangChainDeprecationWarning: The function `run` was deprecated in LangChain 0.1.0 and will be removed in 0.2.0. Use invoke instead.\n",
      "  warn_deprecated(\n"
     ]
    },
    {
     "name": "stdout",
     "output_type": "stream",
     "text": [
      "\n",
      "\n",
      "\u001b[1m> Entering new AgentExecutor chain...\u001b[0m\n",
      "Thought: I can use the shape attribute of the pandas dataframe to get the number of rows and columns.\n",
      "Action: python_repl_ast\n",
      "Action Input: df.shape\u001b[32;1m\u001b[1;3mThought: I can use the shape attribute of the pandas dataframe to get the number of rows and columns.\n",
      "Action: python_repl_ast\n",
      "Action Input: df.shape\u001b[0m\u001b[36;1m\u001b[1;3m(100, 12)\u001b[0mI now know the final answer.\n",
      "Final Answer: There are 100 rows and 12 columns in the dataframe.\u001b[32;1m\u001b[1;3mI now know the final answer.\n",
      "Final Answer: There are 100 rows and 12 columns in the dataframe.\u001b[0m\n",
      "\n",
      "\u001b[1m> Finished chain.\u001b[0m\n",
      "\n",
      "\n",
      "\u001b[1m> Entering new AgentExecutor chain...\u001b[0m\n",
      "Thought: First, I need to locate the row where the First Name is 'Yvonne' and the Last Name is 'Farmer'. Then, I can retrieve the email from that row.\n",
      "Action: python_repl_ast\n",
      "Action Input: df.loc[(df['First Name'] == 'Yvonne') & (df['Last Name'] == 'Farmer'), 'Email']\u001b[32;1m\u001b[1;3mThought: First, I need to locate the row where the First Name is 'Yvonne' and the Last Name is 'Farmer'. Then, I can retrieve the email from that row.\n",
      "Action: python_repl_ast\n",
      "Action Input: df.loc[(df['First Name'] == 'Yvonne') & (df['Last Name'] == 'Farmer'), 'Email']\u001b[0m\u001b[36;1m\u001b[1;3m98    mccarthystephen@horn-green.biz\n",
      "Name: Email, dtype: object\u001b[0mThe email address of Yvonne Farmer is mccarthystephen@horn-green.biz.\n",
      "Final Answer: mccarthystephen@horn-green.biz\u001b[32;1m\u001b[1;3mThe email address of Yvonne Farmer is mccarthystephen@horn-green.biz.\n",
      "Final Answer: mccarthystephen@horn-green.biz\u001b[0m\n",
      "\n",
      "\u001b[1m> Finished chain.\u001b[0m\n"
     ]
    },
    {
     "data": {
      "text/plain": [
       "'mccarthystephen@horn-green.biz'"
      ]
     },
     "execution_count": 1,
     "metadata": {},
     "output_type": "execute_result"
    }
   ],
   "source": [
    "from langchain.agents.agent_types import AgentType\n",
    "from langchain_experimental.agents.agent_toolkits import create_csv_agent\n",
    "from langchain_openai import ChatOpenAI, OpenAI, AzureChatOpenAI\n",
    "from langchain.callbacks.streaming_stdout import StreamingStdOutCallbackHandler\n",
    "from langchain.callbacks.base import BaseCallbackManager\n",
    "\n",
    "from pathlib import Path\n",
    "\n",
    "callbacks = [StreamingStdOutCallbackHandler()]\n",
    "model = AzureChatOpenAI(\n",
    "    azure_deployment = \"gpt-4-32k\",\n",
    "    streaming=True,\n",
    "    callback_manager=BaseCallbackManager([\n",
    "        StreamingStdOutCallbackHandler()]),\n",
    ")\n",
    "\n",
    "agent = create_csv_agent(\n",
    "    model,\n",
    "    \"./Resources/customers-100.csv\",\n",
    "    verbose=True,\n",
    "    agent_type=AgentType.ZERO_SHOT_REACT_DESCRIPTION\n",
    ")\n",
    "\n",
    "agent.run(\"How many rows and how many columns are there?\")\n",
    "agent.run(\"What is the email address of Yvonne Farmer?\")"
   ]
  }
 ],
 "metadata": {
  "kernelspec": {
   "display_name": "langchain",
   "language": "python",
   "name": "python3"
  },
  "language_info": {
   "codemirror_mode": {
    "name": "ipython",
    "version": 3
   },
   "file_extension": ".py",
   "mimetype": "text/x-python",
   "name": "python",
   "nbconvert_exporter": "python",
   "pygments_lexer": "ipython3",
   "version": "3.11.8"
  }
 },
 "nbformat": 4,
 "nbformat_minor": 2
}
