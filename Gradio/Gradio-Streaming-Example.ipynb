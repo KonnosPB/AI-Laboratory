{
 "cells": [
  {
   "cell_type": "code",
   "execution_count": 1,
   "metadata": {},
   "outputs": [
    {
     "ename": "ModuleNotFoundError",
     "evalue": "No module named 'gradio'",
     "output_type": "error",
     "traceback": [
      "\u001b[0;31m---------------------------------------------------------------------------\u001b[0m",
      "\u001b[0;31mModuleNotFoundError\u001b[0m                       Traceback (most recent call last)",
      "Cell \u001b[0;32mIn[1], line 3\u001b[0m\n\u001b[1;32m      1\u001b[0m \u001b[38;5;28;01mimport\u001b[39;00m \u001b[38;5;21;01mos\u001b[39;00m\n\u001b[0;32m----> 3\u001b[0m \u001b[38;5;28;01mimport\u001b[39;00m \u001b[38;5;21;01mgradio\u001b[39;00m \u001b[38;5;28;01mas\u001b[39;00m \u001b[38;5;21;01mgr\u001b[39;00m\n\u001b[1;32m      4\u001b[0m \u001b[38;5;28;01mimport\u001b[39;00m \u001b[38;5;21;01mopenai\u001b[39;00m\n\u001b[1;32m      5\u001b[0m \u001b[38;5;28;01mfrom\u001b[39;00m \u001b[38;5;21;01mlangchain\u001b[39;00m\u001b[38;5;21;01m.\u001b[39;00m\u001b[38;5;21;01mvectorstores\u001b[39;00m \u001b[38;5;28;01mimport\u001b[39;00m Chroma\n",
      "\u001b[0;31mModuleNotFoundError\u001b[0m: No module named 'gradio'"
     ]
    }
   ],
   "source": [
    "import os\n",
    "\n",
    "import gradio as gr\n",
    "import openai\n",
    "from langchain.vectorstores import Chroma\n",
    "from langchain.embeddings.azure_openai import AzureOpenAIEmbeddings\n",
    "from langchain.chat_models import AzureChatOpenAI\n",
    "from langchain.memory import ConversationBufferWindowMemory\n",
    "\n",
    "from langchain.callbacks.manager import CallbackManager\n",
    "from langchain.callbacks.streaming_stdout import StreamingStdOutCallbackHandler\n",
    "from langchain.prompts import PromptTemplate\n",
    "from langchain.chains import ConversationalRetrievalChain\n",
    "\n",
    "\n",
    "# The LLM\n",
    "llm = AzureChatOpenAI(\n",
    "    streaming=True,\n",
    "    callbacks=CallbackManager([StreamingStdOutCallbackHandler()]),\n",
    "    temperature=0.0,\n",
    "    deployment_name='gpt-4o',\n",
    ")\n",
    "\n",
    "# The Prompt\n",
    "template = \"\"\"\n",
    "\n",
    "    ...\n",
    "\n",
    "\"\"\"\n",
    "QA_CHAIN_PROMPT = PromptTemplate.from_template(template)\n",
    "\n",
    "\n",
    "# The Memory\n",
    "buffer_window_memory = ConversationBufferWindowMemory(\n",
    "    memory_key=\"chat_history\", return_messages=True, k=4\n",
    ")\n",
    "\n",
    "# The Embeddings\n",
    "openai_embeddings = AzureOpenAIEmbeddings(\n",
    "    deployment='text-embedding-3-large'    \n",
    ")\n",
    "\n",
    "# The Knowledge Base\n",
    "persist_directory = \"vector_database/chromadb/\"\n",
    "vectordb = Chroma(\n",
    "    persist_directory=persist_directory, embedding_function=openai_embeddings\n",
    ")\n",
    "\n",
    "# The Retriever\n",
    "retriever = vectordb.as_retriever(search_type=\"mmr\")\n",
    "\n",
    "def slow_echo(message, history):\n",
    "    for i in range(len(message)):\n",
    "        yield \"You typed: \" + message[: i+1]\n",
    "\n",
    "\n",
    "demo = gr.ChatInterface(slow_echo).queue()\n",
    "\n",
    "if __name__ == \"__main__\":\n",
    "    demo.launch()"
   ]
  }
 ],
 "metadata": {
  "kernelspec": {
   "display_name": "langchain",
   "language": "python",
   "name": "python3"
  },
  "language_info": {
   "codemirror_mode": {
    "name": "ipython",
    "version": 3
   },
   "file_extension": ".py",
   "mimetype": "text/x-python",
   "name": "python",
   "nbconvert_exporter": "python",
   "pygments_lexer": "ipython3",
   "version": "3.11.8"
  }
 },
 "nbformat": 4,
 "nbformat_minor": 2
}
