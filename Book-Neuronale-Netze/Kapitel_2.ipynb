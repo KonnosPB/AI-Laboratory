{
 "cells": [
  {
   "cell_type": "markdown",
   "metadata": {},
   "source": [
    "# Kapitel 2"
   ]
  },
  {
   "cell_type": "markdown",
   "metadata": {},
   "source": [
    "## Seite 60"
   ]
  },
  {
   "cell_type": "code",
   "execution_count": 5,
   "metadata": {},
   "outputs": [
    {
     "data": {
      "text/plain": [
       "1.0"
      ]
     },
     "execution_count": 5,
     "metadata": {},
     "output_type": "execute_result"
    }
   ],
   "source": [
    "def fehlerfunc(x,y):\n",
    "    return x/y\n",
    "\n",
    "def avg_beelength(valuelist):\n",
    "    total = sum(valuelist)\n",
    "    count = sum(valuelist)\n",
    "    return fehlerfunc(total, count)\n",
    "\n",
    "bees = (3, 3.5, 4.1, 5.2, 5, 2)\n",
    "nobees = ()\n",
    "\n",
    "avg_beelength(bees)"
   ]
  },
  {
   "cell_type": "markdown",
   "metadata": {},
   "source": [
    "## Seite 60"
   ]
  },
  {
   "cell_type": "code",
   "execution_count": 7,
   "metadata": {},
   "outputs": [
    {
     "name": "stdout",
     "output_type": "stream",
     "text": [
      "Exception reporting mode: Context\n"
     ]
    },
    {
     "ename": "ZeroDivisionError",
     "evalue": "division by zero",
     "output_type": "error",
     "traceback": [
      "\u001b[1;31m---------------------------------------------------------------------------\u001b[0m",
      "\u001b[1;31mZeroDivisionError\u001b[0m                         Traceback (most recent call last)",
      "\u001b[1;32me:\\Repos\\GitHub\\KonnosPB\\KI-Experiments\\Buch-NeuronaleNetzeProgrammieren\\Kapitel_2.ipynb Cell 4\u001b[0m line \u001b[0;36m1\n\u001b[0;32m     <a href='vscode-notebook-cell:/e%3A/Repos/GitHub/KonnosPB/KI-Experiments/Buch-NeuronaleNetzeProgrammieren/Kapitel_2.ipynb#W4sZmlsZQ%3D%3D?line=9'>10</a>\u001b[0m nobees \u001b[39m=\u001b[39m ()\n\u001b[0;32m     <a href='vscode-notebook-cell:/e%3A/Repos/GitHub/KonnosPB/KI-Experiments/Buch-NeuronaleNetzeProgrammieren/Kapitel_2.ipynb#W4sZmlsZQ%3D%3D?line=11'>12</a>\u001b[0m get_ipython()\u001b[39m.\u001b[39mrun_line_magic(\u001b[39m'\u001b[39m\u001b[39mxmode\u001b[39m\u001b[39m'\u001b[39m, \u001b[39m'\u001b[39m\u001b[39mContext\u001b[39m\u001b[39m'\u001b[39m)\n\u001b[1;32m---> <a href='vscode-notebook-cell:/e%3A/Repos/GitHub/KonnosPB/KI-Experiments/Buch-NeuronaleNetzeProgrammieren/Kapitel_2.ipynb#W4sZmlsZQ%3D%3D?line=12'>13</a>\u001b[0m avg_beelength(nobees)\n",
      "\u001b[1;32me:\\Repos\\GitHub\\KonnosPB\\KI-Experiments\\Buch-NeuronaleNetzeProgrammieren\\Kapitel_2.ipynb Cell 4\u001b[0m line \u001b[0;36m7\n\u001b[0;32m      <a href='vscode-notebook-cell:/e%3A/Repos/GitHub/KonnosPB/KI-Experiments/Buch-NeuronaleNetzeProgrammieren/Kapitel_2.ipynb#W4sZmlsZQ%3D%3D?line=4'>5</a>\u001b[0m total \u001b[39m=\u001b[39m \u001b[39msum\u001b[39m(valuelist)\n\u001b[0;32m      <a href='vscode-notebook-cell:/e%3A/Repos/GitHub/KonnosPB/KI-Experiments/Buch-NeuronaleNetzeProgrammieren/Kapitel_2.ipynb#W4sZmlsZQ%3D%3D?line=5'>6</a>\u001b[0m count \u001b[39m=\u001b[39m \u001b[39msum\u001b[39m(valuelist)\n\u001b[1;32m----> <a href='vscode-notebook-cell:/e%3A/Repos/GitHub/KonnosPB/KI-Experiments/Buch-NeuronaleNetzeProgrammieren/Kapitel_2.ipynb#W4sZmlsZQ%3D%3D?line=6'>7</a>\u001b[0m \u001b[39mreturn\u001b[39;00m fehlerfunc(total, count)\n",
      "\u001b[1;32me:\\Repos\\GitHub\\KonnosPB\\KI-Experiments\\Buch-NeuronaleNetzeProgrammieren\\Kapitel_2.ipynb Cell 4\u001b[0m line \u001b[0;36m2\n\u001b[0;32m      <a href='vscode-notebook-cell:/e%3A/Repos/GitHub/KonnosPB/KI-Experiments/Buch-NeuronaleNetzeProgrammieren/Kapitel_2.ipynb#W4sZmlsZQ%3D%3D?line=0'>1</a>\u001b[0m \u001b[39mdef\u001b[39;00m \u001b[39mfehlerfunc\u001b[39m(x,y):\n\u001b[1;32m----> <a href='vscode-notebook-cell:/e%3A/Repos/GitHub/KonnosPB/KI-Experiments/Buch-NeuronaleNetzeProgrammieren/Kapitel_2.ipynb#W4sZmlsZQ%3D%3D?line=1'>2</a>\u001b[0m     \u001b[39mreturn\u001b[39;00m x\u001b[39m/\u001b[39;49my\n",
      "\u001b[1;31mZeroDivisionError\u001b[0m: division by zero"
     ]
    }
   ],
   "source": [
    "def fehlerfunc(x,y):\n",
    "    return x/y\n",
    "\n",
    "def avg_beelength(valuelist):\n",
    "    total = sum(valuelist)\n",
    "    count = sum(valuelist)\n",
    "    return fehlerfunc(total, count)\n",
    "\n",
    "bees = (3, 3.5, 4.1, 5.2, 5, 2)\n",
    "nobees = ()\n",
    "\n",
    "%xmode Context\n",
    "avg_beelength(nobees)"
   ]
  },
  {
   "cell_type": "markdown",
   "metadata": {},
   "source": [
    "## Seite 61"
   ]
  },
  {
   "cell_type": "code",
   "execution_count": 8,
   "metadata": {},
   "outputs": [
    {
     "name": "stdout",
     "output_type": "stream",
     "text": [
      "Exception reporting mode: Plain\n"
     ]
    },
    {
     "ename": "ZeroDivisionError",
     "evalue": "division by zero",
     "output_type": "error",
     "traceback": [
      "Traceback \u001b[1;36m(most recent call last)\u001b[0m:\n",
      "\u001b[0m  Cell \u001b[0;32mIn[8], line 13\u001b[0m\n    avg_beelength(nobees)\u001b[0m\n",
      "\u001b[0m  Cell \u001b[0;32mIn[8], line 7\u001b[0m in \u001b[0;35mavg_beelength\u001b[0m\n    return fehlerfunc(total, count)\u001b[0m\n",
      "\u001b[1;36m  Cell \u001b[1;32mIn[8], line 2\u001b[1;36m in \u001b[1;35mfehlerfunc\u001b[1;36m\n\u001b[1;33m    return x/y\u001b[1;36m\n",
      "\u001b[1;31mZeroDivisionError\u001b[0m\u001b[1;31m:\u001b[0m division by zero\n"
     ]
    }
   ],
   "source": [
    "def fehlerfunc(x,y):\n",
    "    return x/y\n",
    "\n",
    "def avg_beelength(valuelist):\n",
    "    total = sum(valuelist)\n",
    "    count = sum(valuelist)\n",
    "    return fehlerfunc(total, count)\n",
    "\n",
    "bees = (3, 3.5, 4.1, 5.2, 5, 2)\n",
    "nobees = ()\n",
    "\n",
    "%xmode Plain\n",
    "avg_beelength(nobees)"
   ]
  },
  {
   "cell_type": "markdown",
   "metadata": {},
   "source": [
    "# Seite 61"
   ]
  },
  {
   "cell_type": "code",
   "execution_count": 9,
   "metadata": {},
   "outputs": [
    {
     "name": "stdout",
     "output_type": "stream",
     "text": [
      "Exception reporting mode: Verbose\n"
     ]
    },
    {
     "ename": "ZeroDivisionError",
     "evalue": "division by zero",
     "output_type": "error",
     "traceback": [
      "\u001b[1;31m---------------------------------------------------------------------------\u001b[0m",
      "\u001b[1;31mZeroDivisionError\u001b[0m                         Traceback (most recent call last)",
      "\u001b[1;32me:\\Repos\\GitHub\\KonnosPB\\KI-Experiments\\Buch-NeuronaleNetzeProgrammieren\\Kapitel_2.ipynb Cell 6\u001b[0m line \u001b[0;36m1\n\u001b[0;32m     <a href='vscode-notebook-cell:/e%3A/Repos/GitHub/KonnosPB/KI-Experiments/Buch-NeuronaleNetzeProgrammieren/Kapitel_2.ipynb#W6sZmlsZQ%3D%3D?line=9'>10</a>\u001b[0m nobees \u001b[39m=\u001b[39m ()\n\u001b[0;32m     <a href='vscode-notebook-cell:/e%3A/Repos/GitHub/KonnosPB/KI-Experiments/Buch-NeuronaleNetzeProgrammieren/Kapitel_2.ipynb#W6sZmlsZQ%3D%3D?line=11'>12</a>\u001b[0m get_ipython()\u001b[39m.\u001b[39mrun_line_magic(\u001b[39m'\u001b[39m\u001b[39mxmode\u001b[39m\u001b[39m'\u001b[39m, \u001b[39m'\u001b[39m\u001b[39mVerbose\u001b[39m\u001b[39m'\u001b[39m)\n\u001b[1;32m---> <a href='vscode-notebook-cell:/e%3A/Repos/GitHub/KonnosPB/KI-Experiments/Buch-NeuronaleNetzeProgrammieren/Kapitel_2.ipynb#W6sZmlsZQ%3D%3D?line=12'>13</a>\u001b[0m avg_beelength(nobees)\n        nobees \u001b[1;34m= ()\u001b[0m\n",
      "\u001b[1;32me:\\Repos\\GitHub\\KonnosPB\\KI-Experiments\\Buch-NeuronaleNetzeProgrammieren\\Kapitel_2.ipynb Cell 6\u001b[0m line \u001b[0;36m7\n\u001b[0;32m      <a href='vscode-notebook-cell:/e%3A/Repos/GitHub/KonnosPB/KI-Experiments/Buch-NeuronaleNetzeProgrammieren/Kapitel_2.ipynb#W6sZmlsZQ%3D%3D?line=4'>5</a>\u001b[0m total \u001b[39m=\u001b[39m \u001b[39msum\u001b[39m(valuelist)\n\u001b[0;32m      <a href='vscode-notebook-cell:/e%3A/Repos/GitHub/KonnosPB/KI-Experiments/Buch-NeuronaleNetzeProgrammieren/Kapitel_2.ipynb#W6sZmlsZQ%3D%3D?line=5'>6</a>\u001b[0m count \u001b[39m=\u001b[39m \u001b[39msum\u001b[39m(valuelist)\n\u001b[1;32m----> <a href='vscode-notebook-cell:/e%3A/Repos/GitHub/KonnosPB/KI-Experiments/Buch-NeuronaleNetzeProgrammieren/Kapitel_2.ipynb#W6sZmlsZQ%3D%3D?line=6'>7</a>\u001b[0m \u001b[39mreturn\u001b[39;00m fehlerfunc(total, count)\n        total \u001b[1;34m= 0\u001b[0m\u001b[1;34m\n        \u001b[0mcount \u001b[1;34m= 0\u001b[0m\n",
      "\u001b[1;32me:\\Repos\\GitHub\\KonnosPB\\KI-Experiments\\Buch-NeuronaleNetzeProgrammieren\\Kapitel_2.ipynb Cell 6\u001b[0m line \u001b[0;36m2\n\u001b[0;32m      <a href='vscode-notebook-cell:/e%3A/Repos/GitHub/KonnosPB/KI-Experiments/Buch-NeuronaleNetzeProgrammieren/Kapitel_2.ipynb#W6sZmlsZQ%3D%3D?line=0'>1</a>\u001b[0m \u001b[39mdef\u001b[39;00m \u001b[39mfehlerfunc\u001b[39m(x,y):\n\u001b[1;32m----> <a href='vscode-notebook-cell:/e%3A/Repos/GitHub/KonnosPB/KI-Experiments/Buch-NeuronaleNetzeProgrammieren/Kapitel_2.ipynb#W6sZmlsZQ%3D%3D?line=1'>2</a>\u001b[0m     \u001b[39mreturn\u001b[39;00m x\u001b[39m/\u001b[39;49my\n        x \u001b[1;34m= 0\u001b[0m\u001b[1;34m\n        \u001b[0my \u001b[1;34m= 0\u001b[0m\n",
      "\u001b[1;31mZeroDivisionError\u001b[0m: division by zero"
     ]
    }
   ],
   "source": [
    "def fehlerfunc(x,y):\n",
    "    return x/y\n",
    "\n",
    "def avg_beelength(valuelist):\n",
    "    total = sum(valuelist)\n",
    "    count = sum(valuelist)\n",
    "    return fehlerfunc(total, count)\n",
    "\n",
    "bees = (3, 3.5, 4.1, 5.2, 5, 2)\n",
    "nobees = ()\n",
    "\n",
    "%xmode Verbose\n",
    "avg_beelength(nobees)"
   ]
  }
 ],
 "metadata": {
  "kernelspec": {
   "display_name": "Env_nn",
   "language": "python",
   "name": "python3"
  },
  "language_info": {
   "codemirror_mode": {
    "name": "ipython",
    "version": 3
   },
   "file_extension": ".py",
   "mimetype": "text/x-python",
   "name": "python",
   "nbconvert_exporter": "python",
   "pygments_lexer": "ipython3",
   "version": "3.11.5"
  }
 },
 "nbformat": 4,
 "nbformat_minor": 2
}
