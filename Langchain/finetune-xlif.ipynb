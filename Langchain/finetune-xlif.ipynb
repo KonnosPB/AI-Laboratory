{
 "cells": [
  {
   "cell_type": "markdown",
   "metadata": {},
   "source": [
    "# Kopieren der aktuellen Dateien"
   ]
  },
  {
   "cell_type": "code",
   "execution_count": 1,
   "metadata": {},
   "outputs": [
    {
     "data": {
      "text/plain": [
       "'./xliff-work/KUMAVISION medtec QM KumaConnect Bridge.de-DE.xlf'"
      ]
     },
     "execution_count": 1,
     "metadata": {},
     "output_type": "execute_result"
    }
   ],
   "source": [
    "import shutil\n",
    "\n",
    "shutil.copyfile(\"C:/Repos/Local/Microsoft_Base Application_23.0.12083.0/Translations/Base%20Application.de-DE.xlf\", \"./xliff-work/Base Application.de-DE.xlf\")\n",
    "shutil.copyfile(\"C:/Repos/DevOps/HC-Release/Product_AppSource/KUMAVISION_Core/app/Translations/KUMAVISION Core.de-DE.xlf\", \"./xliff-work/KUMAVISION Core.de-DE.xlf\")\n",
    "shutil.copyfile(\"C:/Repos/DevOps/HC-Release/Product_KBA/Product_KBA_BC_AL/app/Translations/KUMAVISION base-de-DE.xlf\", \"./xliff-work/KUMAVISION base-de-DE.xlf\")\n",
    "shutil.copyfile(\"C:/Repos/DevOps/HC-Release/Product_KBA/Product_KBA_BC_DE_AL/app/Translations/KUMAVISION base DACH-de-DE.xlf\", \"./xliff-work/KUMAVISION base DACH-de-DE.xlf\")\n",
    "shutil.copyfile(\"C:/Repos/DevOps/HC-Release/Modul_QME/Modul_QME/app/Translations/Quality Management.de-DE.xlf\", \"./xliff-work/Quality Management.de-DE.xlf\")\n",
    "shutil.copyfile(\"C:/Repos/DevOps/HC-Release/Modul_KUMAConnect/Modul_KUMAConnect/app/Translations/KUMAconnect.de-DE.xlf\", \"./xliff-work/KUMAconnect.de-DE.xlf\")\n",
    "shutil.copyfile(\"C:/Repos/DevOps/HC-Release/Modul_DMS_and_ECM_Interface/Modul_DMS_and_ECM_Interface/app/Translations/DMS and ECM Interface.de-DE.xlf\", \"./xliff-work/DMS and ECM Interface.de-DE.xlf\")\n",
    "shutil.copyfile(\"C:/Repos/DevOps/HC-Release/WVS/Shareflex_Interface/app/Translations/KUMAVISION Sharepoint Interface.de-DE.xlf\", \"./xliff-work/KUMAVISION Sharepoint Interface.de-DE.xlf\")\n",
    "shutil.copyfile(\"C:/Repos/DevOps/HC-Release/Product_MED/Product_MED_AL/app/Translations/KUMAVISION healthcare.de-DE.xlf\", \"./xliff-work/KUMAVISION healthcare.de-DE.xlf\")\n",
    "shutil.copyfile(\"C:/Repos/DevOps/HC-Release/Product_MED/Product_MED_AL_DACH/app/Translations/KUMAVISION healthcare DACH.de-DE.xlf\", \"./xliff-work/KUMAVISION healthcare DACH.de-DE.xlf\")\n",
    "shutil.copyfile(\"C:/Repos/DevOps/HC-Release/Product_MED/Product_MED_KumaConnect_Bridge/app/Translations/KUMAVISION healthcare KumaConnect Bridge.de-DE.xlf\", \"./xliff-work/KUMAVISION healthcare KumaConnect Bridge.de-DE.xlf\")\n",
    "shutil.copyfile(\"C:/Repos/DevOps/HC-Release/Product_MED/Product_MED_OPPlus_Bridge/app/Translations/KUMAVISION healthcare OPplus Bridge.de-DE.xlf\", \"./xliff-work/KUMAVISION healthcare OPplus Bridge.de-DE.xlf\")\n",
    "shutil.copyfile(\"C:/Repos/DevOps/HC-Release/Product_MED/Product_MED_QME_Bridge/app/Translations/KUMAVISION healthcare QM Bridge.de-DE.xlf\", \"./xliff-work/KUMAVISION healthcare QM Bridge.de-DE.xlf\")\n",
    "shutil.copyfile(\"C:/Repos/DevOps/HC-Release/Product_MED/Product_HC_DMS_And_ECM_Bridge/app/Translations/KUMAVISION healthcare DMS and ECM Bridge.de-DE.xlf\", \"./xliff-work/KUMAVISION healthcare DMS and ECM Bridge.de-DE.xlf\")\n",
    "shutil.copyfile(\"C:/Repos/DevOps/HC-Release/Product_MED/Product_HC_Sharepoint_Bridge/app/Translations/KUMAVISION healthcare Sharepoint Bridge.de-DE.xlf\", \"./xliff-work/KUMAVISION healthcare Sharepoint Bridge.de-DE.xlf\")\n",
    "shutil.copyfile(\"C:/Repos/DevOps/MTC-Release/Product_MED_Tech365/Product_MED_Tech/app/Translations/KUMAVISION medtec.de-DE.xlf\", \"./xliff-work/KUMAVISION medtec.de-DE.xlf\")\n",
    "shutil.copyfile(\"C:/Repos/DevOps/MTC-Release/Product_MED_Tech365/Product_MED_Tech_DACH/app/Translations/KUMAVISION medtec DACH.de-DE.xlf\", \"./xliff-work/KUMAVISION medtec DACH.de-DE.xlf\")\n",
    "shutil.copyfile(\"C:/Repos/DevOps/MTC-Release/Product_MED_Tech365/Product_MED_Tech_KumaConnect_Bridge/app/Translations/KUMAVISION medtec KumaConnect Bridge.de-DE.xlf\", \"./xliff-work/KUMAVISION medtec KumaConnect Bridge.de-DE.xlf\")\n",
    "shutil.copyfile(\"C:/Repos/DevOps/MTC-Release/Product_MED_Tech365/Product_MED_Tech_QME_Bridge/app/Translations/KUMAVISION medtec QM Bridge.de-DE.xlf\", \"./xliff-work/KUMAVISION medtec QM Bridge.de-DE.xlf\")\n",
    "shutil.copyfile(\"C:/Repos/DevOps/MTC-Release/Product_MED_Tech365/Product_MED_Tech_QME_KUMAConnect_Bridge/app/Translations/KUMAVISION medtec QM KumaConnect Bridge.de-DE.xlf\", \"./xliff-work/KUMAVISION medtec QM KumaConnect Bridge.de-DE.xlf\")\n"
   ]
  },
  {
   "cell_type": "markdown",
   "metadata": {},
   "source": [
    "# Speicherung der Trans-Unit Elemente pro Datei"
   ]
  },
  {
   "cell_type": "code",
   "execution_count": 2,
   "metadata": {},
   "outputs": [],
   "source": [
    "import xml.etree.ElementTree as ET\n",
    "\n",
    "transunitDict = {}\n",
    "\n",
    "def appendTransUnitData(filePath):\n",
    "    transunitElements = []\n",
    "    xliffData = ET.parse(filePath)\n",
    "    namespaces = {'ns': 'urn:oasis:names:tc:xliff:document:1.2'}\n",
    "    transunits = xliffData.findall(\".//ns:trans-unit\", namespaces)\n",
    "    for transunit in transunits:\n",
    "        transunitElements.append(transunit)\n",
    "    transunitDict[filePath] = transunitElements\n",
    "\n",
    "appendTransUnitData(\"./xliff-work/Base Application.de-DE.xlf\")\n",
    "appendTransUnitData(\"./xliff-work/KUMAVISION Core.de-DE.xlf\")\n",
    "appendTransUnitData(\"./xliff-work/KUMAVISION base-de-DE.xlf\")\n",
    "appendTransUnitData(\"./xliff-work/KUMAVISION base DACH-de-DE.xlf\")\n",
    "appendTransUnitData(\"./xliff-work/Quality Management.de-DE.xlf\")\n",
    "appendTransUnitData(\"./xliff-work/KUMAconnect.de-DE.xlf\")\n",
    "appendTransUnitData(\"./xliff-work/DMS and ECM Interface.de-DE.xlf\")\n",
    "appendTransUnitData(\"./xliff-work/KUMAVISION Sharepoint Interface.de-DE.xlf\")\n",
    "appendTransUnitData(\"./xliff-work/KUMAVISION healthcare.de-DE.xlf\")\n",
    "appendTransUnitData(\"./xliff-work/KUMAVISION healthcare DACH.de-DE.xlf\")\n",
    "appendTransUnitData(\"./xliff-work/KUMAVISION healthcare KumaConnect Bridge.de-DE.xlf\")\n",
    "appendTransUnitData(\"./xliff-work/KUMAVISION healthcare OPplus Bridge.de-DE.xlf\")\n",
    "appendTransUnitData(\"./xliff-work/KUMAVISION healthcare QM Bridge.de-DE.xlf\")\n",
    "appendTransUnitData(\"./xliff-work/KUMAVISION healthcare DMS and ECM Bridge.de-DE.xlf\")\n",
    "appendTransUnitData(\"./xliff-work/KUMAVISION healthcare Sharepoint Bridge.de-DE.xlf\")\n",
    "appendTransUnitData(\"./xliff-work/KUMAVISION medtec.de-DE.xlf\")\n",
    "appendTransUnitData(\"./xliff-work/KUMAVISION medtec DACH.de-DE.xlf\")\n",
    "appendTransUnitData(\"./xliff-work/KUMAVISION medtec KumaConnect Bridge.de-DE.xlf\")\n",
    "appendTransUnitData(\"./xliff-work/KUMAVISION medtec QM Bridge.de-DE.xlf\")\n",
    "appendTransUnitData(\"./xliff-work/KUMAVISION medtec QM KumaConnect Bridge.de-DE.xlf\")"
   ]
  },
  {
   "cell_type": "markdown",
   "metadata": {},
   "source": [
    "# Erstelle PromptCompletitions"
   ]
  },
  {
   "cell_type": "code",
   "execution_count": 3,
   "metadata": {},
   "outputs": [],
   "source": [
    "from xml.etree.ElementTree import Element\n",
    "import random\n",
    "\n",
    "namespaces = {'ns': 'urn:oasis:names:tc:xliff:document:1.2'}\n",
    "trainingSet_PromptCompletitions = []\n",
    "validationSet_PromptCompletitions = []\n",
    "\n",
    "class PromptCompletition:\n",
    "    def __init__(self, systemContent, userContent, assistantContent):\n",
    "        self.systemContent = systemContent\n",
    "        self.userContent = userContent\n",
    "        self.assistantContent = assistantContent\n",
    "\n",
    "    def getFinetuningLine(self):\n",
    "        messages = f'{{\"messages\": [{{\"role\": \"system\", \"content\": \"{self.systemContent}\"}}, {{\"role\": \"user\", \"content\": \"{self.userContent}\"}}, {{\"role\": \"assistant\", \"content\": \"{self.assistantContent}\"}}]}}\\n'\n",
    "        return messages\n",
    "\n",
    "def is_xml_element(obj):\n",
    "    return isinstance(obj, Element)\n",
    "\n",
    "def is_xml_empty(xml_object):\n",
    "    if xml_object is None:\n",
    "        return True\n",
    "    return not is_xml_element(xml_object)\n",
    "\n",
    "for key, value in transunitDict.items():     \n",
    "    businessSolution = \"\"\n",
    "    if \"medtec\" in key:\n",
    "        businessSolution = \" für die Branchenlösung medtec\"\n",
    "    if \"healthcare\" in key:\n",
    "        businessSolution = \" für die Branchenlösung healthcare\"\n",
    "    systemMessage = f\"Du bist ein Assistent{businessSolution}, der mir bei der Übersetzungen von Texten für Business Central XLIFF Dateien aus dem amerikanischen (en-US) in das deutsche (de-DE) unterstützt. Du gibst nur den Übersetungstext aus. Wir verwenden Multilingual Editor von Microsoft, welcher Schwierigkeiten mit HTML reservierten Zeichen hat. Daher verwende statt '<' die Zeichenkette '&lt;' und statt '>' die Zeichenkette '&gt; und statt '&' die Zeichenkette '&amp;'. Mit den restlichen Zeichen kommt der Multilingual Editor klar, so dass dafür keine HTML Konvertierung erforderlich ist.\"\n",
    "\n",
    "    for transunitElement in value:   \n",
    "        if not is_xml_element(transunitElement):\n",
    "            continue\n",
    "\n",
    "        targetElements = transunitElement.findall(\"ns:target\", namespaces)\n",
    "        if targetElements is None:\n",
    "            continue        \n",
    "        if len(targetElements) <= 0:\n",
    "            continue\n",
    "        targetElement = targetElements[0]\n",
    "        if is_xml_empty(targetElement):\n",
    "            continue\n",
    "\n",
    "        sourceElements = transunitElement.findall(\"ns:source\", namespaces)        \n",
    "        if sourceElements is None:\n",
    "            continue\n",
    "        if len(sourceElements) <= 0:\n",
    "            continue\n",
    "        sourceElement = sourceElements[0]\n",
    "        if is_xml_empty(sourceElement):\n",
    "            continue\n",
    "\n",
    "        completitionMessage = targetElement.text        \n",
    "\n",
    "        # Completition trans-unit element inkl. Kind-Elemente exklusive <target>\n",
    "        transunitElement.remove(targetElement)\n",
    "        promptMessage = ET.tostring(transunitElement, encoding='utf-8').decode('utf-8').replace(\"\\n\", \"\")\n",
    "        promptCompletition = PromptCompletition(systemMessage, promptMessage, completitionMessage)\n",
    "        randomNumber = random.randint(1, 10)\n",
    "        if randomNumber == 1:\n",
    "            validationSet_PromptCompletitions.append(promptCompletition)\n",
    "        else:\n",
    "            trainingSet_PromptCompletitions.append(promptCompletition);\n",
    "\n",
    "        # Completition source element               \n",
    "        promptMessage = ET.tostring(sourceElement, encoding='utf-8').decode('utf-8').replace(\"\\n\", \"\")\n",
    "        promptCompletition = PromptCompletition(systemMessage, promptMessage, completitionMessage)\n",
    "        randomNumber = random.randint(1, 10)\n",
    "        if randomNumber == 1:\n",
    "            validationSet_PromptCompletitions.append(promptCompletition)\n",
    "        else:\n",
    "            trainingSet_PromptCompletitions.append(promptCompletition);\n",
    "\n",
    "        # Completition source text       \n",
    "        promptMessage = sourceElement.text\n",
    "        promptCompletition = PromptCompletition(systemMessage, promptMessage, completitionMessage)\n",
    "        randomNumber = random.randint(1, 10)\n",
    "        if randomNumber == 1:\n",
    "            validationSet_PromptCompletitions.append(promptCompletition)\n",
    "        else:\n",
    "            trainingSet_PromptCompletitions.append(promptCompletition);\n",
    "    "
   ]
  },
  {
   "cell_type": "markdown",
   "metadata": {},
   "source": [
    "# Daten in Datei schreiben"
   ]
  },
  {
   "cell_type": "code",
   "execution_count": 19,
   "metadata": {},
   "outputs": [],
   "source": [
    "import os\n",
    "max_size = 90 * 1024 * 1024  # 90 MB in Bytes\n",
    "\n",
    "def writePromptCompletions(filePath, promptCompletitions):\n",
    "    file_number = 1\n",
    "    promptCompletitionsLen = len(promptCompletitions)\n",
    "    index = 0\n",
    "    while index < promptCompletitionsLen:\n",
    "        file_name = f'{filePath}_{file_number}.jsonl'\n",
    "        with open(file_name, 'w', encoding=\"utf-8\") as file:        \n",
    "            while os.path.getsize(file_name) < max_size:             \n",
    "                file.write(promptCompletitions[index].getFinetuningLine())        \n",
    "                index += 1\n",
    "                if index >= promptCompletitionsLen:\n",
    "                    break\n",
    "        file_number += 1  # Erhöhe die Dateinummer um 1 für die nächste Datei\n",
    "    \n",
    "writePromptCompletions(\"./finetune-data/training_set\", trainingSet_PromptCompletitions)\n",
    "writePromptCompletions(\"./finetune-data/validation_set\", validationSet_PromptCompletitions)"
   ]
  },
  {
   "cell_type": "markdown",
   "metadata": {},
   "source": [
    "# Upload fine-tuning files    \n",
    "https://learn.microsoft.com/en-us/azure/ai-services/openai/tutorials/fine-tune?tabs=command-line"
   ]
  },
  {
   "cell_type": "code",
   "execution_count": 3,
   "metadata": {},
   "outputs": [],
   "source": [
    "# Upload fine-tuning files\n",
    "import openai\n",
    "import os\n",
    "\n",
    "openai.api_key = os.getenv(\"AZURE_OPENAI_API_KEY\") \n",
    "openai.api_base =  os.getenv(\"AZURE_OPENAI_ENDPOINT\")\n",
    "openai.api_type = 'azure'\n",
    "openai.api_version = '2023-07-01-preview' # This API version or later is required to access fine-tuning for turbo/babbage-002/davinci-002\n",
    "\n",
    "training_file_name = './finetune-data/training_set.jsonl'\n",
    "validation_file_name = './finetune-data/validation_set.jsonl'\n",
    "\n",
    "# Upload the training and validation dataset files to Azure OpenAI with the SDK.\n",
    "\n",
    "training_response = openai.File.create(\n",
    "    file=open(training_file_name, \"rb\"), purpose=\"fine-tune\", user_provided_filename=\"training_set.jsonl\"\n",
    ")\n",
    "training_file_id = training_response[\"id\"]\n",
    "\n",
    "validation_response = openai.File.create(\n",
    "    file=open(validation_file_name, \"rb\"), purpose=\"fine-tune\", user_provided_filename=\"validation_set.jsonl\"\n",
    ")\n",
    "validation_file_id = validation_response[\"id\"]\n",
    "\n",
    "print(\"Training file ID:\", training_file_id)\n",
    "print(\"Validation file ID:\", validation_file_id)"
   ]
  },
  {
   "cell_type": "markdown",
   "metadata": {},
   "source": [
    "# Beginn fine-tuning   \n",
    "https://learn.microsoft.com/en-us/azure/ai-services/openai/tutorials/fine-tune?tabs=command-line"
   ]
  },
  {
   "cell_type": "code",
   "execution_count": null,
   "metadata": {},
   "outputs": [],
   "source": [
    "response = openai.FineTuningJob.create(\n",
    "    training_file=training_file_id,\n",
    "    validation_file=validation_file_id,\n",
    "    model=\"gpt-35-turbo-0613\",\n",
    ")\n",
    "\n",
    "job_id = response[\"id\"]\n",
    "\n",
    "# You can use the job ID to monitor the status of the fine-tuning job.\n",
    "# The fine-tuning job will take some time to start and complete.\n",
    "\n",
    "print(\"Job ID:\", response[\"id\"])\n",
    "print(\"Status:\", response[\"status\"])\n",
    "print(response)"
   ]
  },
  {
   "cell_type": "markdown",
   "metadata": {},
   "source": [
    "\n",
    "# Track training job status"
   ]
  },
  {
   "cell_type": "code",
   "execution_count": null,
   "metadata": {},
   "outputs": [],
   "source": [
    "# Track training status\n",
    "from IPython.display import clear_output\n",
    "import time\n",
    "\n",
    "start_time = time.time()\n",
    "\n",
    "# Get the status of our fine-tuning job.\n",
    "response = openai.FineTuningJob.retrieve(job_id)\n",
    "\n",
    "status = response[\"status\"]\n",
    "\n",
    "# If the job isn't done yet, poll it every 10 seconds.\n",
    "while status not in [\"succeeded\", \"failed\"]:\n",
    "    time.sleep(10)\n",
    "    \n",
    "    response = openai.FineTuningJob.retrieve(job_id)\n",
    "    print(response)\n",
    "    print(\"Elapsed time: {} minutes {} seconds\".format(int((time.time() - start_time) // 60), int((time.time() - start_time) % 60)))\n",
    "    status = response[\"status\"]\n",
    "    print(f'Status: {status}')\n",
    "    clear_output(wait=True)\n",
    "\n",
    "print(f'Fine-tuning job {job_id} finished with status: {status}')\n",
    "\n",
    "# List all fine-tuning jobs for this resource.\n",
    "print('Checking other fine-tune jobs for this resource.')\n",
    "response = openai.FineTuningJob.list()\n",
    "print(f'Found {len(response[\"data\"])} fine-tune jobs.')"
   ]
  }
 ],
 "metadata": {
  "kernelspec": {
   "display_name": "Python 3",
   "language": "python",
   "name": "python3"
  },
  "language_info": {
   "codemirror_mode": {
    "name": "ipython",
    "version": 3
   },
   "file_extension": ".py",
   "mimetype": "text/x-python",
   "name": "python",
   "nbconvert_exporter": "python",
   "pygments_lexer": "ipython3",
   "version": "3.11.6"
  }
 },
 "nbformat": 4,
 "nbformat_minor": 2
}
